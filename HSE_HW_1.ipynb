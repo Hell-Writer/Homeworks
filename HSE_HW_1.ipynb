{
 "cells": [
  {
   "cell_type": "code",
   "execution_count": null,
   "id": "5c6d2e5a",
   "metadata": {},
   "outputs": [],
   "source": [
    "#Дана строка, состоящая из букв A-Z. \n",
    "#Нужно написать программу, которая архивирует данную строку.\n",
    "a=input()+'666'\n",
    "i=0\n",
    "b=1\n",
    "c=[]\n",
    "while i+1<len(a):\n",
    "    if a[i]==a[i+1]:\n",
    "        b+=1\n",
    "    elif b==1:\n",
    "        c.append(a[i])\n",
    "    else:\n",
    "        c.append(a[i])\n",
    "        c.append(str(b))\n",
    "        b=1\n",
    "    i+=1\n",
    "d=\"\".join(c)\n",
    "print(d)"
   ]
  },
  {
   "cell_type": "code",
   "execution_count": null,
   "id": "d3311aaa",
   "metadata": {},
   "outputs": [],
   "source": [
    "#Дана последовательность из слов. Вывести строку из самых коротких слов, разделенных через пробел. \n",
    "#Таких слов может быть несколько.\n",
    "a=input()\n",
    "a=a.split(' ')\n",
    "i=0\n",
    "c=[]\n",
    "b=1000\n",
    "while i<len(a):\n",
    "    if len(a[i])<b:\n",
    "        b=len(a[i])\n",
    "    i+=1\n",
    "i=0\n",
    "while i<len(a):\n",
    "    if len(a[i])==b:\n",
    "        c.append(a[i])\n",
    "    i+=1   \n",
    "print(' '.join(c))"
   ]
  },
  {
   "cell_type": "code",
   "execution_count": null,
   "id": "31c6fd93",
   "metadata": {},
   "outputs": [],
   "source": [
    "#Грут устал изучать грамматику. \n",
    "#У него возникла свежая мысль - написать для себя функцию, \n",
    "#которая принимает на вход предложение из нескольких слов, \n",
    "#а затем разворачивает его.\n",
    "a=input()\n",
    "a=a.split('.')\n",
    "a.pop()\n",
    "i=0\n",
    "c=[]\n",
    "while i<len(a):\n",
    "    b=a[i].split(' ')\n",
    "    b.reverse()\n",
    "    if b.count('')!=0:\n",
    "        b.remove('')\n",
    "    \" \".join(b)\n",
    "    c.append(b)\n",
    "    i+=1\n",
    "i=0\n",
    "l=[]\n",
    "while i<len(a):\n",
    "    d=(' '.join(c[i])).capitalize()\n",
    "    l.append(d)\n",
    "    i+=1\n",
    "l='. '.join(l)\n",
    "print(l+'.')"
   ]
  }
 ],
 "metadata": {
  "kernelspec": {
   "display_name": "Python 3",
   "language": "python",
   "name": "python3"
  },
  "language_info": {
   "codemirror_mode": {
    "name": "ipython",
    "version": 3
   },
   "file_extension": ".py",
   "mimetype": "text/x-python",
   "name": "python",
   "nbconvert_exporter": "python",
   "pygments_lexer": "ipython3",
   "version": "3.8.8"
  }
 },
 "nbformat": 4,
 "nbformat_minor": 5
}
